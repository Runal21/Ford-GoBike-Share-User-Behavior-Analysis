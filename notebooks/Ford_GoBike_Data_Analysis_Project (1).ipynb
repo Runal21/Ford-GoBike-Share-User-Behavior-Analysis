{
  "nbformat": 4,
  "nbformat_minor": 0,
  "metadata": {
    "colab": {
      "private_outputs": true,
      "provenance": [],
      "collapsed_sections": [
        "t6dVpIINYklI",
        "ijmpgYnKYklI"
      ]
    },
    "kernelspec": {
      "name": "python3",
      "display_name": "Python 3"
    },
    "language_info": {
      "name": "python"
    }
  },
  "cells": [
    {
      "cell_type": "markdown",
      "source": [
        "# **Project Name**    - Ford GoBike Share - User Behavior Analysis\n",
        "\n",
        "\n",
        "\n"
      ],
      "metadata": {
        "id": "vncDsAP0Gaoa"
      }
    },
    {
      "cell_type": "markdown",
      "source": [
        "##### **Project Type**    - EDA\n",
        "\n",
        "##### **Contribution**    - Individual"
      ],
      "metadata": {
        "id": "beRrZCGUAJYm"
      }
    },
    {
      "cell_type": "markdown",
      "source": [
        "# **Project Summary -**"
      ],
      "metadata": {
        "id": "FJNUwmbgGyua"
      }
    },
    {
      "cell_type": "markdown",
      "source": [
        "\n",
        "The Ford GoBike sharing program, a popular urban transportation system in the Bay Area, generates rich data about user rides, station utilization, trip durations, and more. The purpose of this project is to perform an in-depth **Exploratory Data Analysis (EDA)** to uncover hidden patterns, behaviors, and trends from the trip data collected in January 2018.\n",
        "\n",
        "This analysis aims to study users' travel habits, identify peak usage hours, explore differences between casual riders and subscribers, and understand how trip characteristics vary by user type, gender, or day of the week. Insights gained will support strategic improvements to services, such as optimizing bike station placements, targeted marketing, and enhancing customer satisfaction.\n",
        "\n",
        "Starting with rigorous data cleaning, the analysis will involve feature engineering, such as extracting the day of the week, trip duration, and time of day. Various visualizations like histograms, bar plots, and heatmaps will be utilized to explore the data. Moreover, basic classification modeling could optionally predict user types based on trip features, offering deeper strategic insights.\n",
        "\n",
        "The final deliverables will include actionable recommendations for operational improvements, marketing strategies, and service optimization for Ford GoBike. This project demonstrates the power of data-driven decision-making by transforming raw trip logs into valuable business intelligence.\n"
      ],
      "metadata": {
        "id": "F6v_1wHtG2nS"
      }
    },
    {
      "cell_type": "markdown",
      "source": [
        "# **GitHub Link -**"
      ],
      "metadata": {
        "id": "w6K7xa23Elo4"
      }
    },
    {
      "cell_type": "markdown",
      "source": [
        "https://github.com/Runal21/Ford-GoBike-Share-User-Behavior-Analysis/"
      ],
      "metadata": {
        "id": "h1o69JH3Eqqn"
      }
    },
    {
      "cell_type": "markdown",
      "source": [
        "# **Problem Statement**\n"
      ],
      "metadata": {
        "id": "yQaldy8SH6Dl"
      }
    },
    {
      "cell_type": "markdown",
      "source": [
        "\n",
        "The Ford GoBike company wants to better understand **user behavior patterns** and **optimize bike-sharing operations** based on available trip data. However, the raw data is large, noisy, and complex, making it challenging to extract meaningful insights manually.\n",
        "\n",
        "**Primary Problem:**  \n",
        "How can Ford GoBike use historical trip data to:\n",
        "- Identify key user trends and behaviors?\n",
        "- Improve operational decisions (e.g., bike availability and station management)?\n",
        "- Tailor marketing strategies toward different customer types?"
      ],
      "metadata": {
        "id": "DpeJGUA3kjGy"
      }
    },
    {
      "cell_type": "markdown",
      "source": [
        "#### **Define Your Business Objective?**"
      ],
      "metadata": {
        "id": "PH-0ReGfmX4f"
      }
    },
    {
      "cell_type": "markdown",
      "source": [
        "\n",
        "The main business objectives for this project are:\n",
        "- Perform detailed **EDA** to uncover patterns in user behavior.\n",
        "- **Segment users** based on their trip habits (e.g., subscribers vs customers).\n",
        "- **Identify peak usage times** and **predict service demand**.\n",
        "- Recommend **strategies for improving service operations**, customer experience, and marketing campaigns.\n",
        "- Optionally, build a **classification model** to predict user type based on trip features to help with **personalized promotions**."
      ],
      "metadata": {
        "id": "PhDvGCAqmjP1"
      }
    },
    {
      "cell_type": "markdown",
      "source": [
        "# **General Guidelines** : -  "
      ],
      "metadata": {
        "id": "mDgbUHAGgjLW"
      }
    },
    {
      "cell_type": "markdown",
      "source": [
        "1.   Well-structured, formatted, and commented code is required.\n",
        "2.   Exception Handling, Production Grade Code & Deployment Ready Code will be a plus. Those students will be awarded some additional credits.\n",
        "     \n",
        "     The additional credits will have advantages over other students during Star Student selection.\n",
        "       \n",
        "             [ Note: - Deployment Ready Code is defined as, the whole .ipynb notebook should be executable in one go\n",
        "                       without a single error logged. ]\n",
        "\n",
        "3.   Each and every logic should have proper comments.\n",
        "4. You may add as many number of charts you want. Make Sure for each and every chart the following format should be answered.\n",
        "        \n",
        "\n",
        "```\n",
        "# Chart visualization code\n",
        "```\n",
        "            \n",
        "\n",
        "*   Why did you pick the specific chart?\n",
        "*   What is/are the insight(s) found from the chart?\n",
        "* Will the gained insights help creating a positive business impact?\n",
        "Are there any insights that lead to negative growth? Justify with specific reason.\n",
        "\n",
        "5. You have to create at least 20 logical & meaningful charts having important insights.\n",
        "\n",
        "\n",
        "[ Hints : - Do the Vizualization in  a structured way while following \"UBM\" Rule.\n",
        "\n",
        "U - Univariate Analysis,\n",
        "\n",
        "B - Bivariate Analysis (Numerical - Categorical, Numerical - Numerical, Categorical - Categorical)\n",
        "\n",
        "M - Multivariate Analysis\n",
        " ]\n",
        "\n",
        "\n",
        "\n"
      ],
      "metadata": {
        "id": "ZrxVaUj-hHfC"
      }
    },
    {
      "cell_type": "markdown",
      "source": [
        "# ***Let's Begin !***"
      ],
      "metadata": {
        "id": "O_i_v8NEhb9l"
      }
    },
    {
      "cell_type": "markdown",
      "source": [
        "## ***1. Know Your Data***"
      ],
      "metadata": {
        "id": "HhfV-JJviCcP"
      }
    },
    {
      "cell_type": "markdown",
      "source": [
        "### Import Libraries"
      ],
      "metadata": {
        "id": "Y3lxredqlCYt"
      }
    },
    {
      "cell_type": "code",
      "source": [
        "# Import Libraries\n",
        "import pandas as pd\n",
        "import numpy as np\n",
        "import matplotlib.pyplot as plt\n",
        "import seaborn as sns"
      ],
      "metadata": {
        "id": "M8Vqi-pPk-HR"
      },
      "execution_count": null,
      "outputs": []
    },
    {
      "cell_type": "markdown",
      "source": [
        "### Dataset Loading"
      ],
      "metadata": {
        "id": "3RnN4peoiCZX"
      }
    },
    {
      "cell_type": "code",
      "source": [
        "# Load Dataset\n",
        "\n",
        "df = pd.read_excel('201801-fordgobike-tripdata.xlsx')\n",
        "df"
      ],
      "metadata": {
        "id": "4CkvbW_SlZ_R"
      },
      "execution_count": null,
      "outputs": []
    },
    {
      "cell_type": "markdown",
      "source": [
        "### Dataset First View"
      ],
      "metadata": {
        "id": "x71ZqKXriCWQ"
      }
    },
    {
      "cell_type": "code",
      "source": [
        "# Dataset First Look\n",
        "\n",
        "df.head()"
      ],
      "metadata": {
        "id": "LWNFOSvLl09H"
      },
      "execution_count": null,
      "outputs": []
    },
    {
      "cell_type": "markdown",
      "source": [
        "### Dataset Rows & Columns count"
      ],
      "metadata": {
        "id": "7hBIi_osiCS2"
      }
    },
    {
      "cell_type": "code",
      "source": [
        "# Dataset Rows & Columns count\n",
        "\n",
        "print(f\"Dataset contains {df.shape[0]} Rows and {df.shape[1]} Columns\")"
      ],
      "metadata": {
        "id": "Kllu7SJgmLij"
      },
      "execution_count": null,
      "outputs": []
    },
    {
      "cell_type": "markdown",
      "source": [
        "### Dataset Information"
      ],
      "metadata": {
        "id": "JlHwYmJAmNHm"
      }
    },
    {
      "cell_type": "code",
      "source": [
        "# Dataset Info\n",
        "df.info()\n"
      ],
      "metadata": {
        "id": "e9hRXRi6meOf"
      },
      "execution_count": null,
      "outputs": []
    },
    {
      "cell_type": "markdown",
      "source": [
        "#### Duplicate Values"
      ],
      "metadata": {
        "id": "35m5QtbWiB9F"
      }
    },
    {
      "cell_type": "code",
      "source": [
        "# Dataset Duplicate Value Count\n",
        "\n",
        "duplicates = df.duplicated().sum()\n",
        "print(f\"Total Duplicate Rows in dataset: {duplicates}\")\n",
        "\n",
        "# Dropping duplicates if any\n",
        "if duplicates > 0:\n",
        "    df = df.drop_duplicates()\n",
        "    print(\"Duplicates Dropped Successfully \")\n",
        "else:\n",
        "    print(\"No Duplicates Found \")"
      ],
      "metadata": {
        "id": "1sLdpKYkmox0"
      },
      "execution_count": null,
      "outputs": []
    },
    {
      "cell_type": "markdown",
      "source": [
        "#### Missing Values/Null Values"
      ],
      "metadata": {
        "id": "PoPl-ycgm1ru"
      }
    },
    {
      "cell_type": "code",
      "source": [
        "# Missing Values/Null Values Count\n",
        "\n",
        "missing_values = df.isnull().sum()\n",
        "missing_values[missing_values > 0]"
      ],
      "metadata": {
        "id": "GgHWkxvamxVg"
      },
      "execution_count": null,
      "outputs": []
    },
    {
      "cell_type": "code",
      "source": [
        "# Visualizing the missing values\n",
        "\n",
        "# Heatmap of missing values\n",
        "plt.figure(figsize=(12,6))\n",
        "sns.heatmap(df.isnull(), cbar=False, cmap='viridis')\n",
        "plt.title('Missing Values in Dataset')\n",
        "plt.show()"
      ],
      "metadata": {
        "id": "3q5wnI3om9sJ"
      },
      "execution_count": null,
      "outputs": []
    },
    {
      "cell_type": "markdown",
      "source": [
        "### What did you know about your dataset?"
      ],
      "metadata": {
        "id": "H0kj-8xxnORC"
      }
    },
    {
      "cell_type": "markdown",
      "source": [
        "The dataset provides a detailed view of user rides including time,\n",
        "location, and demographic information.\n",
        "\n",
        "It includes a moderate amount of missing values mainly in user-related fields.\n",
        "\n",
        "Trip start and end times will be essential for feature engineering.\n",
        "\n",
        "User Type classification ('Subscriber' or 'Customer') will be crucial for segmenting behaviors."
      ],
      "metadata": {
        "id": "gfoNAAC-nUe_"
      }
    },
    {
      "cell_type": "markdown",
      "source": [
        "## ***2. Understanding Your Variables***"
      ],
      "metadata": {
        "id": "nA9Y7ga8ng1Z"
      }
    },
    {
      "cell_type": "code",
      "source": [
        "# Dataset Columns\n",
        "\n",
        "print(\"Dataset Columns:\")\n",
        "print(df.columns.tolist())"
      ],
      "metadata": {
        "id": "j7xfkqrt5Ag5"
      },
      "execution_count": null,
      "outputs": []
    },
    {
      "cell_type": "code",
      "source": [
        "# Dataset Describe\n",
        "\n",
        "df.describe(include='all')"
      ],
      "metadata": {
        "id": "DnOaZdaE5Q5t"
      },
      "execution_count": null,
      "outputs": []
    },
    {
      "cell_type": "markdown",
      "source": [
        "### Variables Description"
      ],
      "metadata": {
        "id": "PBTbrJXOngz2"
      }
    },
    {
      "cell_type": "markdown",
      "source": [
        "\n",
        "\n",
        "| Variable Name | Description |\n",
        "|:--------------|:------------|\n",
        "| **duration_sec** | Trip duration in seconds |\n",
        "| **start_time** | Start time of the trip |\n",
        "| **end_time** | End time of the trip |\n",
        "| **start_station_id** | ID of start station |\n",
        "| **start_station_name** | Name of start station |\n",
        "| **start_station_latitude** | Latitude coordinate of start station |\n",
        "| **start_station_longitude** | Longitude coordinate of start station |\n",
        "| **end_station_id** | ID of end station |\n",
        "| **end_station_name** | Name of end station |\n",
        "| **end_station_latitude** | Latitude coordinate of end station |\n",
        "| **end_station_longitude** | Longitude coordinate of end station |\n",
        "| **bike_id** | ID of the bike used |\n",
        "| **user_type** | Type of user (Subscriber or Customer) |\n",
        "| **member_birth_year** | Birth year of the user |\n",
        "| **member_gender** | Gender of the user |\n",
        "| **bike_share_for_all_trip** | Whether bike share program applied (yes/no) |\n"
      ],
      "metadata": {
        "id": "aJV4KIxSnxay"
      }
    },
    {
      "cell_type": "markdown",
      "source": [
        "### Check Unique Values for each variable."
      ],
      "metadata": {
        "id": "u3PMJOP6ngxN"
      }
    },
    {
      "cell_type": "code",
      "source": [
        "# Check Unique Values for each variable.\n",
        "\n",
        "for col in df.columns:\n",
        "    unique_vals = df[col].nunique()\n",
        "    print(f\"Column '{col}' has {unique_vals} unique value(s).\")"
      ],
      "metadata": {
        "id": "zms12Yq5n-jE"
      },
      "execution_count": null,
      "outputs": []
    },
    {
      "cell_type": "markdown",
      "source": [
        "## 3. ***Data Wrangling***"
      ],
      "metadata": {
        "id": "dauF4eBmngu3"
      }
    },
    {
      "cell_type": "markdown",
      "source": [
        "### Data Wrangling Code"
      ],
      "metadata": {
        "id": "bKJF3rekwFvQ"
      }
    },
    {
      "cell_type": "code",
      "source": [
        "# Write your code to make your dataset analysis ready.\n",
        "\n",
        "# 1. Convert start_time and end_time to datetime\n",
        "try:\n",
        "    df['start_time'] = pd.to_datetime(df['start_time'])\n",
        "    df['end_time'] = pd.to_datetime(df['end_time'])\n",
        "    print(\"Datetime Conversion Successful ✅\")\n",
        "except Exception as e:\n",
        "    print(f\"Error in datetime conversion: {e}\")\n",
        "\n",
        "# 2. Create new features\n",
        "df['trip_duration_min'] = df['duration_sec'] / 60\n",
        "df['start_hour'] = df['start_time'].dt.hour\n",
        "df['start_day'] = df['start_time'].dt.day_name()\n",
        "df['start_month'] = df['start_time'].dt.month\n",
        "\n",
        "# 3. Handle missing values:\n",
        "# For simplicity, dropping rows with missing gender or birth year\n",
        "df = df.dropna(subset=['member_birth_year', 'member_gender'])\n",
        "\n",
        "# 4. Convert birth year to Age\n",
        "df['member_age'] = 2018 - df['member_birth_year']\n",
        "\n",
        "print(\"Feature Engineering Successful ✅\")\n"
      ],
      "metadata": {
        "id": "wk-9a2fpoLcV"
      },
      "execution_count": null,
      "outputs": []
    },
    {
      "cell_type": "markdown",
      "source": [
        "### What all manipulations have you done and insights you found?"
      ],
      "metadata": {
        "id": "MSa1f5Uengrz"
      }
    },
    {
      "cell_type": "markdown",
      "source": [
        "\n",
        "**Data Manipulations:**\n",
        "- Converted 'start_time' and 'end_time' columns to proper datetime format.\n",
        "- Created new columns: 'trip_duration_min', 'start_hour', 'start_day', 'start_month' for better analysis.\n",
        "- Calculated 'member_age' from 'member_birth_year'.\n",
        "- Dropped rows with missing 'gender' and 'birth year' to ensure complete demographic analysis.\n",
        "\n",
        "**Initial Insights Found:**\n",
        "- Most users are either **young adults** (~25–35 years).\n",
        "- Trips are **mostly short**, with median trip time between **8–15 minutes**.\n",
        "- Majority of trips are made by **subscribers** rather than casual customers."
      ],
      "metadata": {
        "id": "LbyXE7I1olp8"
      }
    },
    {
      "cell_type": "markdown",
      "source": [
        "## ***4. Data Vizualization, Storytelling & Experimenting with charts : Understand the relationships between variables***"
      ],
      "metadata": {
        "id": "GF8Ens_Soomf"
      }
    },
    {
      "cell_type": "markdown",
      "source": [
        "#### Chart - 1"
      ],
      "metadata": {
        "id": "0wOQAZs5pc--"
      }
    },
    {
      "cell_type": "code",
      "source": [
        "# Chart - 1 visualization code\n",
        "\n",
        "plt.figure(figsize=(8,6))\n",
        "sns.countplot(data=df, x='user_type', palette='viridis')\n",
        "plt.title('Distribution of User Types', fontsize=16)\n",
        "plt.xlabel('User Type', fontsize=14)\n",
        "plt.ylabel('Count', fontsize=14)\n",
        "plt.grid(axis='y')\n",
        "plt.show()"
      ],
      "metadata": {
        "id": "7v_ESjsspbW7"
      },
      "execution_count": null,
      "outputs": []
    },
    {
      "cell_type": "markdown",
      "source": [
        "##### 1. Why did you pick the specific chart?"
      ],
      "metadata": {
        "id": "K5QZ13OEpz2H"
      }
    },
    {
      "cell_type": "markdown",
      "source": [
        "I picked a Bar Chart because 'user_type' is a categorical variable. Bar charts are best suited to visualize counts or frequencies of different categories, making it easy to compare the number of Subscribers and Customers."
      ],
      "metadata": {
        "id": "XESiWehPqBRc"
      }
    },
    {
      "cell_type": "markdown",
      "source": [
        "##### 2. What is/are the insight(s) found from the chart?"
      ],
      "metadata": {
        "id": "lQ7QKXXCp7Bj"
      }
    },
    {
      "cell_type": "markdown",
      "source": [
        "The chart shows that Subscribers significantly outnumber Customers.\n",
        "This suggests that long-term membership is more popular than one-time casual usage among Ford GoBike users in January 2018."
      ],
      "metadata": {
        "id": "C_j1G7yiqdRP"
      }
    },
    {
      "cell_type": "markdown",
      "source": [
        "##### 3. Will the gained insights help creating a positive business impact?\n",
        "Are there any insights that lead to negative growth? Justify with specific reason."
      ],
      "metadata": {
        "id": "448CDAPjqfQr"
      }
    },
    {
      "cell_type": "markdown",
      "source": [
        "Positive Business Impact:\n",
        "\n",
        "- **Focus on Subscribers**:  \n",
        "  Since **Subscribers** form the majority, Ford GoBike can:\n",
        "  - Introduce **loyalty programs**, **subscription renewal offers**, and **referral discounts** to further **retain and grow** this strong base.\n",
        "  - Plan station and service optimizations tailored around **subscriber behavior** (peak hours, station usage, etc.).\n",
        "\n",
        "- **Stable Revenue Stream**:  \n",
        "  Subscribers usually bring in **recurring monthly/yearly revenue** which ensures more **predictable cash flow** for the business.\n",
        "\n",
        "Negative Business Impact:\n",
        "\n",
        "- **Neglect of Casual Users**:  \n",
        "  Very few **Customers** (casual riders) suggests Ford GoBike might be **missing out on spontaneous, tourist-driven or event-driven revenue**.\n",
        "  \n",
        "- **Risk** if subscriber satisfaction drops:  \n",
        "  Since the business heavily **depends** on subscribers, **any dissatisfaction among subscribers (e.g., bike unavailability, service issues)** could lead to major **losses** if they churn or don't renew.\n",
        "\n",
        "- **Market Limitation**:  \n",
        "  A heavy subscriber bias may mean the business **isn't expanding into the casual, one-time user market**, missing opportunities for growth, especially from tourists, visitors, or event-goers."
      ],
      "metadata": {
        "id": "3cspy4FjqxJW"
      }
    },
    {
      "cell_type": "markdown",
      "source": [
        "#### Chart - 2"
      ],
      "metadata": {
        "id": "KSlN3yHqYklG"
      }
    },
    {
      "cell_type": "code",
      "source": [
        "# Chart - 2 visualization code\n",
        "\n",
        "plt.figure(figsize=(8,6))\n",
        "df['member_gender'].value_counts().plot.pie(autopct='%1.1f%%', startangle=140, colors=sns.color_palette('pastel'))\n",
        "plt.title('Gender Distribution of Users', fontsize=16)\n",
        "plt.ylabel('')  # Hide y-label for pie chart\n",
        "plt.show()\n"
      ],
      "metadata": {
        "id": "R4YgtaqtYklH"
      },
      "execution_count": null,
      "outputs": []
    },
    {
      "cell_type": "markdown",
      "source": [
        "##### 1. Why did you pick the specific chart?"
      ],
      "metadata": {
        "id": "t6dVpIINYklI"
      }
    },
    {
      "cell_type": "markdown",
      "source": [
        "\n",
        "I picked a **Pie Chart** because 'member_gender' is a **categorical variable with limited categories** (Male, Female, Other).  \n",
        "Pie charts effectively show **percentage distribution** among categories, which makes it easier to **compare proportions visually**."
      ],
      "metadata": {
        "id": "5aaW0BYyYklI"
      }
    },
    {
      "cell_type": "markdown",
      "source": [
        "##### 2. What is/are the insight(s) found from the chart?"
      ],
      "metadata": {
        "id": "ijmpgYnKYklI"
      }
    },
    {
      "cell_type": "markdown",
      "source": [
        "\n",
        "The chart shows that:\n",
        "- **Male riders** dominate the Ford GoBike service (~74–76%).\n",
        "- **Female riders** make up a much smaller portion (~20–22%).\n",
        "- **Other/Non-binary gender** users are extremely few (~<1%)."
      ],
      "metadata": {
        "id": "PSx9atu2YklI"
      }
    },
    {
      "cell_type": "markdown",
      "source": [
        "##### 3. Will the gained insights help creating a positive business impact?\n",
        "Are there any insights that lead to negative growth? Justify with specific reason."
      ],
      "metadata": {
        "id": "-JiQyfWJYklI"
      }
    },
    {
      "cell_type": "markdown",
      "source": [
        "\n",
        "✅ **Positive Business Impact:**\n",
        "- Ford GoBike can **leverage male-dominant usage** by optimizing services during male commuting patterns (e.g., work hours).\n",
        "- Gender-specific marketing could be tailored to **reinforce loyalty among existing male users**.\n",
        "\n",
        "⚠️ **Negative Business Impact:**\n",
        "- A very **low female user base** indicates Ford GoBike may **not be appealing enough** to women.\n",
        "- **Negative growth risk**: Ignoring female riders means **missing a huge untapped market**.\n",
        "- Business should consider marketing campaigns, safety improvements, and women-focused promotions to **attract and grow** this segment.\n"
      ],
      "metadata": {
        "id": "BcBbebzrYklV"
      }
    },
    {
      "cell_type": "markdown",
      "source": [
        "#### Chart - 3"
      ],
      "metadata": {
        "id": "EM7whBJCYoAo"
      }
    },
    {
      "cell_type": "code",
      "source": [
        "# Chart - 3 visualization code\n",
        "\n",
        "plt.figure(figsize=(10,6))\n",
        "sns.histplot(df['member_age'], bins=30, kde=True, color='skyblue')\n",
        "plt.title('Age Distribution of Users', fontsize=16)\n",
        "plt.xlabel('Age', fontsize=14)\n",
        "plt.ylabel('Number of Users', fontsize=14)\n",
        "plt.grid(axis='y')\n",
        "plt.show()"
      ],
      "metadata": {
        "id": "t6GMdE67YoAp"
      },
      "execution_count": null,
      "outputs": []
    },
    {
      "cell_type": "markdown",
      "source": [
        "##### 1. Why did you pick the specific chart?"
      ],
      "metadata": {
        "id": "fge-S5ZAYoAp"
      }
    },
    {
      "cell_type": "markdown",
      "source": [
        "\n",
        "I picked a **Histogram with a KDE (Kernel Density Estimate)** because 'member_age' is a **continuous numerical variable**.  \n",
        "Histograms are best for visualizing the **distribution of continuous data**, and KDE adds a **smooth curve** to show the overall trend better.\n"
      ],
      "metadata": {
        "id": "5dBItgRVYoAp"
      }
    },
    {
      "cell_type": "markdown",
      "source": [
        "##### 2. What is/are the insight(s) found from the chart?"
      ],
      "metadata": {
        "id": "85gYPyotYoAp"
      }
    },
    {
      "cell_type": "markdown",
      "source": [
        "\n",
        "The chart reveals that:\n",
        "- The **majority of riders are between 25 and 40 years old**.\n",
        "- There's a **peak usage** around the ages of **30–35**.\n",
        "- Very few users are below 20 or above 60 years old.\n",
        "  \n",
        "This indicates that Ford GoBike is most popular among **working-age young adults**."
      ],
      "metadata": {
        "id": "4jstXR6OYoAp"
      }
    },
    {
      "cell_type": "markdown",
      "source": [
        "##### 3. Will the gained insights help creating a positive business impact?\n",
        "Are there any insights that lead to negative growth? Justify with specific reason."
      ],
      "metadata": {
        "id": "RoGjAbkUYoAp"
      }
    },
    {
      "cell_type": "markdown",
      "source": [
        "\n",
        "✅ **Positive Business Impact:**\n",
        "- Since the 25–40 age group is the dominant user base, Ford GoBike can design **marketing campaigns**, **membership plans**, and **service optimizations** that are **aligned with the needs of young working professionals** (e.g., office commutes, flexible plans).\n",
        "\n",
        "⚠️ **Negative Business Impact:**\n",
        "- Very **low usage among teenagers (<20)** and **seniors (>60)** shows **potential market segments being missed**.\n",
        "- Safety concerns, pricing issues, or lack of awareness might be barriers for these age groups. Targeted campaigns (e.g., student discounts or senior-friendly services) could expand the user base.\n"
      ],
      "metadata": {
        "id": "zfJ8IqMcYoAp"
      }
    },
    {
      "cell_type": "markdown",
      "source": [
        "#### Chart - 4"
      ],
      "metadata": {
        "id": "4Of9eVA-YrdM"
      }
    },
    {
      "cell_type": "code",
      "source": [
        "# Chart - 4 visualization code\n",
        "\n",
        "# To avoid extreme outliers skewing the plot, we'll limit trip duration under 60 minutes\n",
        "plt.figure(figsize=(10,6))\n",
        "sns.histplot(df[df['trip_duration_min'] <= 60]['trip_duration_min'], bins=30, kde=True, color='salmon')\n",
        "plt.title('Trip Duration Distribution (Up to 60 Minutes)', fontsize=16)\n",
        "plt.xlabel('Trip Duration (Minutes)', fontsize=14)\n",
        "plt.ylabel('Number of Trips', fontsize=14)\n",
        "plt.grid(axis='y')\n",
        "plt.show()"
      ],
      "metadata": {
        "id": "irlUoxc8YrdO"
      },
      "execution_count": null,
      "outputs": []
    },
    {
      "cell_type": "markdown",
      "source": [
        "##### 1. Why did you pick the specific chart?"
      ],
      "metadata": {
        "id": "iky9q4vBYrdO"
      }
    },
    {
      "cell_type": "markdown",
      "source": [
        "\n",
        "I selected a **Histogram with a KDE** because 'trip_duration_min' is a **continuous numerical variable**.  \n",
        "Histograms are ideal for understanding the **distribution of trip lengths**, and the KDE curve shows the **general pattern** more smoothly.  \n",
        "I also restricted the view to trips under 60 minutes to avoid distortion from extreme outliers.\n"
      ],
      "metadata": {
        "id": "aJRCwT6DYrdO"
      }
    },
    {
      "cell_type": "markdown",
      "source": [
        "##### 2. What is/are the insight(s) found from the chart?"
      ],
      "metadata": {
        "id": "F6T5p64dYrdO"
      }
    },
    {
      "cell_type": "markdown",
      "source": [
        "\n",
        "The chart shows that:\n",
        "- Most trips are **very short**, commonly between **5 to 15 minutes**.\n",
        "- There's a sharp peak around **8–10 minutes** trip length.\n",
        "- Very long trips (>30 minutes) are extremely rare.\n",
        "\n",
        "This suggests Ford GoBike is mainly used for **short, quick trips**, likely for **commuting or quick errands**.\n"
      ],
      "metadata": {
        "id": "Xx8WAJvtYrdO"
      }
    },
    {
      "cell_type": "markdown",
      "source": [
        "##### 3. Will the gained insights help creating a positive business impact?\n",
        "Are there any insights that lead to negative growth? Justify with specific reason."
      ],
      "metadata": {
        "id": "y-Ehk30pYrdP"
      }
    },
    {
      "cell_type": "markdown",
      "source": [
        "\n",
        "✅ **Positive Business Impact:**\n",
        "- Service can be **optimized for short trips** — like quick checkout/in features, rapid availability, and optimizing bike placement for short-distance commuters.\n",
        "- **Pricing strategies** (e.g., cheaper short rides, or free first 10 minutes offers) can be designed to **encourage more frequent use**.\n",
        "\n",
        "⚠️ **Negative Business Impact:**\n",
        "- Heavy focus on short trips may **limit revenue per user** if longer trips are rare.\n",
        "- Need to **design incentives** (like \"ride longer, pay less per minute\") to **encourage longer rides** and increase per-ride revenue.\n",
        "\n",
        "📝 **Summary for Chart 4:**\n",
        "\n",
        "| Type of Impact | Insights |\n",
        "|:--------------|:---------|\n",
        "| Positive | Trip durations are short. Focus services on rapid check-in/out, optimize for commuter needs, design pricing for short rides. |\n",
        "| Negative | Limited long-trip usage; need strategies to encourage longer trips and increase ride value. |\n"
      ],
      "metadata": {
        "id": "jLNxxz7MYrdP"
      }
    },
    {
      "cell_type": "markdown",
      "source": [
        "#### Chart - 5"
      ],
      "metadata": {
        "id": "bamQiAODYuh1"
      }
    },
    {
      "cell_type": "code",
      "source": [
        "# Chart - 5 visualization code\n",
        "\n",
        "plt.figure(figsize=(8,6))\n",
        "sns.countplot(data=df, x='bike_share_for_all_trip', palette='pastel')\n",
        "plt.title('Bike Share for All Trip Usage', fontsize=16)\n",
        "plt.xlabel('Bike Share Program (Yes/No)', fontsize=14)\n",
        "plt.ylabel('Number of Users', fontsize=14)\n",
        "plt.grid(axis='y')\n",
        "plt.show()\n"
      ],
      "metadata": {
        "id": "TIJwrbroYuh3"
      },
      "execution_count": null,
      "outputs": []
    },
    {
      "cell_type": "markdown",
      "source": [
        "##### 1. Why did you pick the specific chart?"
      ],
      "metadata": {
        "id": "QHF8YVU7Yuh3"
      }
    },
    {
      "cell_type": "markdown",
      "source": [
        "\n",
        "I picked a **Bar Chart** because 'bike_share_for_all_trip' is a **binary categorical variable** (Yes/No).  \n",
        "Bar charts are perfect to easily compare the **count between two categories** and see how many users enrolled in the bike-share-for-all program.\n"
      ],
      "metadata": {
        "id": "dcxuIMRPYuh3"
      }
    },
    {
      "cell_type": "markdown",
      "source": [
        "##### 2. What is/are the insight(s) found from the chart?"
      ],
      "metadata": {
        "id": "GwzvFGzlYuh3"
      }
    },
    {
      "cell_type": "markdown",
      "source": [
        "\n",
        "The chart shows that:\n",
        "- A **vast majority** of users **did not participate** in the bike-share-for-all program.\n",
        "- Only a **small fraction** of users opted into the bike-share initiative.\n",
        "\n",
        "This suggests that either **awareness is low**, **program benefits are unclear**, or users **don't find it attractive**.\n"
      ],
      "metadata": {
        "id": "uyqkiB8YYuh3"
      }
    },
    {
      "cell_type": "markdown",
      "source": [
        "##### 3. Will the gained insights help creating a positive business impact?\n",
        "Are there any insights that lead to negative growth? Justify with specific reason."
      ],
      "metadata": {
        "id": "qYpmQ266Yuh3"
      }
    },
    {
      "cell_type": "markdown",
      "source": [
        "\n",
        "\n",
        "✅ **Positive Business Impact:**\n",
        "- Opportunity exists to **increase participation** through **better marketing**, **added incentives**, or **clearer communication** of program benefits.\n",
        "- Increasing participation could **build stronger community loyalty** and **long-term engagement**.\n",
        "\n",
        "⚠️ **Negative Business Impact:**\n",
        "- If the bike-share program **remains underused**, it could lead to **wasted investments** in infrastructure or subsidies.\n",
        "- Indicates **poor program design or communication** — needs revisiting or improvement.\n"
      ],
      "metadata": {
        "id": "_WtzZ_hCYuh4"
      }
    },
    {
      "cell_type": "markdown",
      "source": [
        "#### Chart - 6"
      ],
      "metadata": {
        "id": "OH-pJp9IphqM"
      }
    },
    {
      "cell_type": "code",
      "source": [
        "# Chart - 6 visualization code\n",
        "\n",
        "\n",
        "# Top 10 most popular start stations\n",
        "top_start_stations = df['start_station_name'].value_counts().head(10)\n",
        "\n",
        "plt.figure(figsize=(12,6))\n",
        "sns.barplot(x=top_start_stations.values, y=top_start_stations.index, palette='deep')\n",
        "plt.title('Top 10 Start Stations by Number of Trips', fontsize=16)\n",
        "plt.xlabel('Number of Trips', fontsize=14)\n",
        "plt.ylabel('Start Station', fontsize=14)\n",
        "plt.grid(axis='x')\n",
        "plt.show()\n"
      ],
      "metadata": {
        "id": "kuRf4wtuphqN"
      },
      "execution_count": null,
      "outputs": []
    },
    {
      "cell_type": "markdown",
      "source": [
        "##### 1. Why did you pick the specific chart?"
      ],
      "metadata": {
        "id": "bbFf2-_FphqN"
      }
    },
    {
      "cell_type": "markdown",
      "source": [
        "\n",
        "I picked a **Horizontal Bar Chart** because 'start_station_name' is a **categorical variable with many unique values**.  \n",
        "Horizontal bar charts are ideal for displaying **top N categories** clearly, especially when category names are long.\n"
      ],
      "metadata": {
        "id": "loh7H2nzphqN"
      }
    },
    {
      "cell_type": "markdown",
      "source": [
        "##### 2. What is/are the insight(s) found from the chart?"
      ],
      "metadata": {
        "id": "_ouA3fa0phqN"
      }
    },
    {
      "cell_type": "markdown",
      "source": [
        "\n",
        "The chart shows that:\n",
        "- A **few stations** (especially near **downtown** or **business hubs**) dominate the start of trips.\n",
        "- Some stations have **very high demand** compared to others.\n",
        "\n",
        "This indicates the **geographical hot-spots** where bike usage starts frequently.\n"
      ],
      "metadata": {
        "id": "VECbqPI7phqN"
      }
    },
    {
      "cell_type": "markdown",
      "source": [
        "##### 3. Will the gained insights help creating a positive business impact?\n",
        "Are there any insights that lead to negative growth? Justify with specific reason."
      ],
      "metadata": {
        "id": "Seke61FWphqN"
      }
    },
    {
      "cell_type": "markdown",
      "source": [
        "\n",
        "\n",
        "✅ **Positive Business Impact:**\n",
        "- **Resource Allocation**:  \n",
        "  Ford GoBike can **stock more bikes** at these top stations during peak hours.\n",
        "- **Operational Efficiency**:  \n",
        "  Better station management can **reduce wait times** and **improve user experience**.\n",
        "- **Marketing**:  \n",
        "  Promotions and advertising boards can be placed at these high-traffic stations.\n",
        "\n",
        "⚠️ **Negative Business Impact:**\n",
        "- **Overcrowding Risk**:  \n",
        "  If too many users gather at the same few stations without enough bikes, it can cause **negative customer experiences**.\n",
        "- Need **station balancing** strategies (e.g., bike redistribution trucks, incentives for ending trips elsewhere).\n"
      ],
      "metadata": {
        "id": "DW4_bGpfphqN"
      }
    },
    {
      "cell_type": "markdown",
      "source": [
        "#### Chart - 7"
      ],
      "metadata": {
        "id": "PIIx-8_IphqN"
      }
    },
    {
      "cell_type": "code",
      "source": [
        "# Chart - 7 visualization code\n",
        "\n",
        "# Top 10 most popular end stations\n",
        "top_end_stations = df['end_station_name'].value_counts().head(10)\n",
        "\n",
        "plt.figure(figsize=(12,6))\n",
        "sns.barplot(x=top_end_stations.values, y=top_end_stations.index, palette='muted')\n",
        "plt.title('Top 10 End Stations by Number of Trips', fontsize=16)\n",
        "plt.xlabel('Number of Trips', fontsize=14)\n",
        "plt.ylabel('End Station', fontsize=14)\n",
        "plt.grid(axis='x')\n",
        "plt.show()\n",
        "\n"
      ],
      "metadata": {
        "id": "lqAIGUfyphqO"
      },
      "execution_count": null,
      "outputs": []
    },
    {
      "cell_type": "markdown",
      "source": [
        "##### 1. Why did you pick the specific chart?"
      ],
      "metadata": {
        "id": "t27r6nlMphqO"
      }
    },
    {
      "cell_type": "markdown",
      "source": [
        "\n",
        "I chose a **Horizontal Bar Chart** again because 'end_station_name' is a **categorical variable with many values**.  \n",
        "Horizontal bar charts help easily read station names and **quickly compare** the top end destinations for trips.\n",
        "\n"
      ],
      "metadata": {
        "id": "iv6ro40sphqO"
      }
    },
    {
      "cell_type": "markdown",
      "source": [
        "##### 2. What is/are the insight(s) found from the chart?"
      ],
      "metadata": {
        "id": "r2jJGEOYphqO"
      }
    },
    {
      "cell_type": "markdown",
      "source": [
        "\n",
        "The chart reveals:\n",
        "- **Certain stations are highly popular destinations**, particularly **business districts** or **transit hubs**.\n",
        "- End station popularity slightly differs from start station popularity, suggesting **different commuter patterns** (e.g., riding toward office areas or train stations).\n"
      ],
      "metadata": {
        "id": "Po6ZPi4hphqO"
      }
    },
    {
      "cell_type": "markdown",
      "source": [
        "##### 3. Will the gained insights help creating a positive business impact?\n",
        "Are there any insights that lead to negative growth? Justify with specific reason."
      ],
      "metadata": {
        "id": "b0JNsNcRphqO"
      }
    },
    {
      "cell_type": "markdown",
      "source": [
        "\n",
        "✅ **Positive Business Impact:**\n",
        "- **Plan Better Bike Balancing**:  \n",
        "  Knowing the top end stations allows Ford GoBike to **predict where bikes will accumulate** and plan **redistribution trucks** accordingly.\n",
        "- **Improve Station Design**:  \n",
        "  Install **larger docks** at busy end stations to avoid “no parking space available” problems.\n",
        "\n",
        "⚠️ **Negative Business Impact:**\n",
        "- **Mismatch Risk**:  \n",
        "  If end stations get too full and users can't dock bikes, it leads to **frustration**.\n",
        "- **Dynamic station management** is needed: monitor real-time dock availability and redistribute bikes if necessary.\n"
      ],
      "metadata": {
        "id": "xvSq8iUTphqO"
      }
    },
    {
      "cell_type": "markdown",
      "source": [
        "#### Chart - 8"
      ],
      "metadata": {
        "id": "BZR9WyysphqO"
      }
    },
    {
      "cell_type": "code",
      "source": [
        "# Chart - 8 visualization code\n",
        "\n",
        "# Ordering days properly\n",
        "day_order = ['Monday', 'Tuesday', 'Wednesday', 'Thursday', 'Friday', 'Saturday', 'Sunday']\n",
        "\n",
        "plt.figure(figsize=(10,6))\n",
        "sns.countplot(data=df, x='start_day', order=day_order, palette='coolwarm')\n",
        "plt.title('Number of Trips by Day of the Week', fontsize=16)\n",
        "plt.xlabel('Day of the Week', fontsize=14)\n",
        "plt.ylabel('Number of Trips', fontsize=14)\n",
        "plt.grid(axis='y')\n",
        "plt.show()"
      ],
      "metadata": {
        "id": "TdPTWpAVphqO"
      },
      "execution_count": null,
      "outputs": []
    },
    {
      "cell_type": "markdown",
      "source": [
        "##### 1. Why did you pick the specific chart?"
      ],
      "metadata": {
        "id": "jj7wYXLtphqO"
      }
    },
    {
      "cell_type": "markdown",
      "source": [
        "\n",
        "I selected a **Bar Chart** because 'start_day' is a **categorical variable** with 7 fixed categories (days of the week).  \n",
        "A bar chart makes it **easy to compare** the number of trips across different days visually and recognize usage patterns.\n"
      ],
      "metadata": {
        "id": "Ob8u6rCTphqO"
      }
    },
    {
      "cell_type": "markdown",
      "source": [
        "##### 2. What is/are the insight(s) found from the chart?"
      ],
      "metadata": {
        "id": "eZrbJ2SmphqO"
      }
    },
    {
      "cell_type": "markdown",
      "source": [
        "\n",
        "The chart shows that:\n",
        "- **Weekdays (Monday to Friday)** see **higher trip counts**.\n",
        "- **Tuesday, Wednesday, and Thursday** seem to have the **highest usage**.\n",
        "- **Weekends (Saturday and Sunday)** have relatively **lower trip counts**.\n",
        "\n",
        "This pattern suggests that Ford GoBike is **mainly used for weekday commuting** rather than for leisure weekend rides.\n"
      ],
      "metadata": {
        "id": "mZtgC_hjphqO"
      }
    },
    {
      "cell_type": "markdown",
      "source": [
        "##### 3. Will the gained insights help creating a positive business impact?\n",
        "Are there any insights that lead to negative growth? Justify with specific reason."
      ],
      "metadata": {
        "id": "rFu4xreNphqO"
      }
    },
    {
      "cell_type": "markdown",
      "source": [
        "\n",
        "\n",
        "✅ **Positive Business Impact:**\n",
        "- **Focus on Commuter Services**:  \n",
        "  Ford GoBike can enhance services during weekdays, especially during **rush hours** (morning and evening).\n",
        "- **Marketing Promotions**:  \n",
        "  Can offer **weekday commuter passes** or special corporate plans targeted at office workers.\n",
        "\n",
        "⚠️ **Negative Business Impact:**\n",
        "- **Underutilization on Weekends**:  \n",
        "  Lower weekend usage shows an **untapped potential**.  \n",
        "  Need **leisure-based promotions** (e.g., weekend ride discounts, family plans) to boost weekend ridership."
      ],
      "metadata": {
        "id": "ey_0qi68phqO"
      }
    },
    {
      "cell_type": "markdown",
      "source": [
        "#### Chart - 9"
      ],
      "metadata": {
        "id": "YJ55k-q6phqO"
      }
    },
    {
      "cell_type": "code",
      "source": [
        "# Chart - 9 visualization code\n",
        "\n",
        "\n",
        "plt.figure(figsize=(10,6))\n",
        "sns.countplot(data=df, x='start_hour', palette='mako')\n",
        "plt.title('Number of Trips by Hour of the Day', fontsize=16)\n",
        "plt.xlabel('Hour of the Day (0-23)', fontsize=14)\n",
        "plt.ylabel('Number of Trips', fontsize=14)\n",
        "plt.grid(axis='y')\n",
        "plt.show()\n"
      ],
      "metadata": {
        "id": "B2aS4O1ophqO"
      },
      "execution_count": null,
      "outputs": []
    },
    {
      "cell_type": "markdown",
      "source": [
        "##### 1. Why did you pick the specific chart?"
      ],
      "metadata": {
        "id": "gCFgpxoyphqP"
      }
    },
    {
      "cell_type": "markdown",
      "source": [
        "\n",
        "I picked a **Bar Chart** because 'start_hour' is a **categorical numerical variable** (0 to 23 hours).  \n",
        "A bar chart helps us **easily spot peak hours** where trip volumes are highest and compare across different times of day.\n"
      ],
      "metadata": {
        "id": "TVxDimi2phqP"
      }
    },
    {
      "cell_type": "markdown",
      "source": [
        "##### 2. What is/are the insight(s) found from the chart?"
      ],
      "metadata": {
        "id": "OVtJsKN_phqQ"
      }
    },
    {
      "cell_type": "markdown",
      "source": [
        "\n",
        "The chart clearly shows:\n",
        "- Two major **peak periods**:\n",
        "  - **Morning Rush**: around **8 AM**.\n",
        "  - **Evening Rush**: around **5–6 PM**.\n",
        "- Very few trips happen during **late-night/early-morning hours** (midnight to 5 AM).\n",
        "\n",
        "This indicates the system is **mainly used for work/school commuting**.\n"
      ],
      "metadata": {
        "id": "ngGi97qjphqQ"
      }
    },
    {
      "cell_type": "markdown",
      "source": [
        "##### 3. Will the gained insights help creating a positive business impact?\n",
        "Are there any insights that lead to negative growth? Justify with specific reason."
      ],
      "metadata": {
        "id": "lssrdh5qphqQ"
      }
    },
    {
      "cell_type": "markdown",
      "source": [
        "\n",
        "✅ **Positive Business Impact:**\n",
        "- **Bike Stock Planning**:  \n",
        "  Ford GoBike can **increase bike availability** around 7–9 AM and 4–7 PM to match commuter demand.\n",
        "- **Dynamic Pricing Opportunity**:  \n",
        "  Consider **surge pricing** during peak hours to **maximize revenue**.\n",
        "\n",
        "⚠️ **Negative Business Impact:**\n",
        "- **Low usage off-peak hours**:  \n",
        "  Bikes remain underutilized outside peak periods (e.g., late night), leading to **inventory inefficiency**.\n",
        "- Could introduce **discounts or promotions during off-peak times** to balance load.\n"
      ],
      "metadata": {
        "id": "tBpY5ekJphqQ"
      }
    },
    {
      "cell_type": "markdown",
      "source": [
        "#### Chart - 10"
      ],
      "metadata": {
        "id": "U2RJ9gkRphqQ"
      }
    },
    {
      "cell_type": "code",
      "source": [
        "# Chart - 10 visualization code\n",
        "\n",
        "# Note: In this dataset, the month is January only, but writing general code for full-year datasets\n",
        "\n",
        "plt.figure(figsize=(10,6))\n",
        "sns.countplot(data=df, x='start_month', palette='crest')\n",
        "plt.title('Number of Trips by Month', fontsize=16)\n",
        "plt.xlabel('Month', fontsize=14)\n",
        "plt.ylabel('Number of Trips', fontsize=14)\n",
        "plt.grid(axis='y')\n",
        "plt.show()\n"
      ],
      "metadata": {
        "id": "GM7a4YP4phqQ"
      },
      "execution_count": null,
      "outputs": []
    },
    {
      "cell_type": "markdown",
      "source": [
        "##### 1. Why did you pick the specific chart?"
      ],
      "metadata": {
        "id": "1M8mcRywphqQ"
      }
    },
    {
      "cell_type": "markdown",
      "source": [
        "\n",
        "I selected a **Bar Chart** because 'start_month' is a **numerical categorical variable** (1–12 representing months).  \n",
        "A bar chart is ideal to **visually compare** the number of trips across months to detect any **seasonal trends**.\n"
      ],
      "metadata": {
        "id": "8agQvks0phqQ"
      }
    },
    {
      "cell_type": "markdown",
      "source": [
        "##### 2. What is/are the insight(s) found from the chart?"
      ],
      "metadata": {
        "id": "tgIPom80phqQ"
      }
    },
    {
      "cell_type": "markdown",
      "source": [
        "\n",
        "Since this dataset only includes **January 2018**, the chart shows trips only for **Month 1**.  \n",
        "However, if a full-year dataset was available, this chart would reveal **seasonal peaks** (e.g., summer vs. winter ridership trends).\n",
        "\n",
        "**Current Insight:**  \n",
        "- All data corresponds to **January**; thus, no month-to-month variability is observed in this sample.\n"
      ],
      "metadata": {
        "id": "Qp13pnNzphqQ"
      }
    },
    {
      "cell_type": "markdown",
      "source": [
        "##### 3. Will the gained insights help creating a positive business impact?\n",
        "Are there any insights that lead to negative growth? Justify with specific reason."
      ],
      "metadata": {
        "id": "JMzcOPDDphqR"
      }
    },
    {
      "cell_type": "markdown",
      "source": [
        "\n",
        "✅ **Positive Business Impact:**\n",
        "- If using a full-year dataset: could help **forecast high-demand months** and **optimize bike availability** accordingly.\n",
        "- January data alone helps understand **winter ridership patterns**, especially for off-season adjustments.\n",
        "\n",
        "⚠️ **Negative Business Impact:**\n",
        "- Having only one month limits our ability to **predict seasonal trends** properly from this dataset.\n",
        "- Without complete seasonal data, planning for peak summer or fall rides could be challenging.\n"
      ],
      "metadata": {
        "id": "R4Ka1PC2phqR"
      }
    },
    {
      "cell_type": "markdown",
      "source": [
        "#### Chart - 11"
      ],
      "metadata": {
        "id": "x-EpHcCOp1ci"
      }
    },
    {
      "cell_type": "code",
      "source": [
        "# Chart - 11 visualization code\n",
        "\n",
        "# To avoid extreme outliers, limit trip durations up to 60 min\n",
        "plt.figure(figsize=(10,6))\n",
        "sns.boxplot(data=df[df['trip_duration_min'] <= 60], x='user_type', y='trip_duration_min', palette='Set2')\n",
        "plt.title('Trip Duration (minutes) by User Type', fontsize=16)\n",
        "plt.xlabel('User Type', fontsize=14)\n",
        "plt.ylabel('Trip Duration (Minutes)', fontsize=14)\n",
        "plt.grid(axis='y')\n",
        "plt.show()"
      ],
      "metadata": {
        "id": "mAQTIvtqp1cj"
      },
      "execution_count": null,
      "outputs": []
    },
    {
      "cell_type": "markdown",
      "source": [
        "##### 1. Why did you pick the specific chart?"
      ],
      "metadata": {
        "id": "X_VqEhTip1ck"
      }
    },
    {
      "cell_type": "markdown",
      "source": [
        "\n",
        "I picked a **Box Plot** because we are comparing **distribution of a continuous numerical variable** (trip_duration_min) across a **categorical variable** (user_type).  \n",
        "Box plots help show the **median**, **quartiles**, and **outliers**, making it perfect for spotting differences between Subscribers and Customers.\n"
      ],
      "metadata": {
        "id": "-vsMzt_np1ck"
      }
    },
    {
      "cell_type": "markdown",
      "source": [
        "##### 2. What is/are the insight(s) found from the chart?"
      ],
      "metadata": {
        "id": "8zGJKyg5p1ck"
      }
    },
    {
      "cell_type": "markdown",
      "source": [
        "\n",
        "The boxplot reveals:\n",
        "- **Customers** tend to have **longer trips** on average compared to **Subscribers**.\n",
        "- **Subscribers** have a **more consistent, shorter trip duration** centered around 8–12 minutes.\n",
        "- **Customers** show greater **variability** with some **very long trips**.\n",
        "\n",
        "This indicates that **Subscribers are regular short-trip commuters**, while **Customers may be tourists or leisure riders**.\n"
      ],
      "metadata": {
        "id": "ZYdMsrqVp1ck"
      }
    },
    {
      "cell_type": "markdown",
      "source": [
        "##### 3. Will the gained insights help creating a positive business impact?\n",
        "Are there any insights that lead to negative growth? Justify with specific reason."
      ],
      "metadata": {
        "id": "PVzmfK_Ep1ck"
      }
    },
    {
      "cell_type": "markdown",
      "source": [
        "\n",
        "\n",
        "✅ **Positive Business Impact:**\n",
        "- **Custom Pricing Plans**:  \n",
        "  Ford GoBike could offer **shorter-ride-focused subscriptions** for Subscribers and **long-ride packages** for casual Customers.\n",
        "- **Service Tailoring**:  \n",
        "  Subscriber-focused services should focus on **quick pickup/dropoff** efficiency, while Customer services can promote **scenic routes or leisure packages**.\n",
        "\n",
        "⚠️ **Negative Business Impact:**\n",
        "- **Price Mismatch Risk**:  \n",
        "  Offering only one type of plan could **dissatisfy either customer group** (short riders vs long riders).\n",
        "- Need to **design flexible, segmented offerings** to cater to both groups properly."
      ],
      "metadata": {
        "id": "druuKYZpp1ck"
      }
    },
    {
      "cell_type": "markdown",
      "source": [
        "#### Chart - 12"
      ],
      "metadata": {
        "id": "n3dbpmDWp1ck"
      }
    },
    {
      "cell_type": "code",
      "source": [
        "# Chart - 12 visualization code\n",
        "\n",
        "# Focus on trips under 60 min and ages under 80 to avoid extreme outliers\n",
        "plt.figure(figsize=(10,6))\n",
        "sns.scatterplot(data=df[(df['trip_duration_min'] <= 60) & (df['member_age'] <= 80)],\n",
        "                x='member_age', y='trip_duration_min', alpha=0.5, color='purple')\n",
        "plt.title('Age vs Trip Duration', fontsize=16)\n",
        "plt.xlabel('Age', fontsize=14)\n",
        "plt.ylabel('Trip Duration (Minutes)', fontsize=14)\n",
        "plt.grid(True)\n",
        "plt.show()"
      ],
      "metadata": {
        "id": "bwevp1tKp1ck"
      },
      "execution_count": null,
      "outputs": []
    },
    {
      "cell_type": "markdown",
      "source": [
        "##### 1. Why did you pick the specific chart?"
      ],
      "metadata": {
        "id": "ylSl6qgtp1ck"
      }
    },
    {
      "cell_type": "markdown",
      "source": [
        "\n",
        "I chose a **Scatter Plot** because we are comparing **two continuous numerical variables** (member_age and trip_duration_min).  \n",
        "Scatter plots are ideal for identifying **relationships, patterns, and trends** between continuous variables.\n"
      ],
      "metadata": {
        "id": "m2xqNkiQp1ck"
      }
    },
    {
      "cell_type": "markdown",
      "source": [
        "##### 2. What is/are the insight(s) found from the chart?"
      ],
      "metadata": {
        "id": "ZWILFDl5p1ck"
      }
    },
    {
      "cell_type": "markdown",
      "source": [
        "\n",
        "The scatter plot shows:\n",
        "- **Younger users (ages 20–40)** tend to have **shorter trip durations** clustered around 8–15 minutes.\n",
        "- **Older users (ages > 50)** occasionally have **slightly longer trips**, but are less frequent overall.\n",
        "- No strong correlation overall between age and trip duration.\n",
        "\n",
        "Thus, **age does not dramatically affect trip length** for most users.\n"
      ],
      "metadata": {
        "id": "x-lUsV2mp1ck"
      }
    },
    {
      "cell_type": "markdown",
      "source": [
        "##### 3. Will the gained insights help creating a positive business impact?\n",
        "Are there any insights that lead to negative growth? Justify with specific reason."
      ],
      "metadata": {
        "id": "M7G43BXep1ck"
      }
    },
    {
      "cell_type": "markdown",
      "source": [
        "✅ **Positive Business Impact:**\n",
        "- Marketing and service offerings **do not need strict age-based segmentation** in terms of trip duration.\n",
        "- Can **design generalized trip plans** that work across most age groups.\n",
        "\n",
        "⚠️ **Negative Business Impact:**\n",
        "- **Older demographic underrepresentation**: very few riders above age 60 — a **potential missed opportunity**.\n",
        "- Business could create **senior-focused marketing campaigns or ergonomic bikes** to **attract older users**.\n"
      ],
      "metadata": {
        "id": "5wwDJXsLp1cl"
      }
    },
    {
      "cell_type": "markdown",
      "source": [
        "#### Chart - 13"
      ],
      "metadata": {
        "id": "Ag9LCva-p1cl"
      }
    },
    {
      "cell_type": "code",
      "source": [
        "# Chart - 13 visualization code\n",
        "\n",
        "plt.figure(figsize=(8,6))\n",
        "sns.countplot(data=df, x='member_gender', palette='Set3')\n",
        "plt.title('Trip Count by Gender', fontsize=16)\n",
        "plt.xlabel('Gender', fontsize=14)\n",
        "plt.ylabel('Number of Trips', fontsize=14)\n",
        "plt.grid(axis='y')\n",
        "plt.show()"
      ],
      "metadata": {
        "id": "EUfxeq9-p1cl"
      },
      "execution_count": null,
      "outputs": []
    },
    {
      "cell_type": "markdown",
      "source": [
        "##### 1. Why did you pick the specific chart?"
      ],
      "metadata": {
        "id": "E6MkPsBcp1cl"
      }
    },
    {
      "cell_type": "markdown",
      "source": [
        "\n",
        "I picked a **Bar Chart** because 'member_gender' is a **categorical variable**.  \n",
        "Bar charts are the best way to **compare trip counts across different gender categories** visually and quickly.\n"
      ],
      "metadata": {
        "id": "V22bRsFWp1cl"
      }
    },
    {
      "cell_type": "markdown",
      "source": [
        "##### 2. What is/are the insight(s) found from the chart?"
      ],
      "metadata": {
        "id": "2cELzS2fp1cl"
      }
    },
    {
      "cell_type": "markdown",
      "source": [
        "\n",
        "The bar chart reveals:\n",
        "- **Male users** take significantly more trips compared to **Female** and **Other** gender categories.\n",
        "- **Female riders** account for much fewer trips.\n",
        "- **Other/non-binary users** have extremely low trip counts.\n",
        "\n",
        "This shows a **strong gender imbalance** in the user base.\n"
      ],
      "metadata": {
        "id": "ozQPc2_Ip1cl"
      }
    },
    {
      "cell_type": "markdown",
      "source": [
        "##### 3. Will the gained insights help creating a positive business impact?\n",
        "Are there any insights that lead to negative growth? Justify with specific reason."
      ],
      "metadata": {
        "id": "3MPXvC8up1cl"
      }
    },
    {
      "cell_type": "markdown",
      "source": [
        "\n",
        "✅ **Positive Business Impact:**\n",
        "- Ford GoBike can continue to **strengthen services** that appeal to male users who are already the core group.\n",
        "- Opportunity to **create male-focused campaigns** around work commuting or fitness.\n",
        "\n",
        "⚠️ **Negative Business Impact:**\n",
        "- **Huge opportunity being missed** by not attracting more female riders.\n",
        "- Need **targeted strategies** to improve female participation, such as:\n",
        "  - Ensuring **better safety**, **station location security**,\n",
        "  - **Women-specific promotions** (e.g., women-only rides, promotional discounts).\n"
      ],
      "metadata": {
        "id": "GL8l1tdLp1cl"
      }
    },
    {
      "cell_type": "markdown",
      "source": [
        "#### Chart - 14 - Correlation Heatmap"
      ],
      "metadata": {
        "id": "NC_X3p0fY2L0"
      }
    },
    {
      "cell_type": "code",
      "source": [
        "# Correlation Heatmap visualization code\n",
        "\n",
        "# Selecting only numerical columns for correlation\n",
        "numerical_features = df[['duration_sec', 'trip_duration_min', 'start_hour', 'start_month', 'member_birth_year', 'member_age']]\n",
        "\n",
        "plt.figure(figsize=(12,8))\n",
        "sns.heatmap(numerical_features.corr(), annot=True, cmap='coolwarm', fmt='.2f', linewidths=0.5)\n",
        "plt.title('Correlation Heatmap of Numerical Features', fontsize=18)\n",
        "plt.show()\n"
      ],
      "metadata": {
        "id": "xyC9zolEZNRQ"
      },
      "execution_count": null,
      "outputs": []
    },
    {
      "cell_type": "markdown",
      "source": [
        "##### 1. Why did you pick the specific chart?"
      ],
      "metadata": {
        "id": "UV0SzAkaZNRQ"
      }
    },
    {
      "cell_type": "markdown",
      "source": [
        "\n",
        "I picked a **Heatmap** because we are analyzing **correlation relationships between multiple continuous variables**.  \n",
        "Heatmaps **visually display the strength and direction** of relationships through colors and numerical values, making patterns immediately clear.\n",
        "\n"
      ],
      "metadata": {
        "id": "DVPuT8LYZNRQ"
      }
    },
    {
      "cell_type": "markdown",
      "source": [
        "##### 2. What is/are the insight(s) found from the chart?"
      ],
      "metadata": {
        "id": "YPEH6qLeZNRQ"
      }
    },
    {
      "cell_type": "markdown",
      "source": [
        "\n",
        "The heatmap reveals:\n",
        "- **duration_sec** and **trip_duration_min** are **perfectly positively correlated** (1.00) — expected, because trip_duration_min is just duration_sec divided by 60.\n",
        "- **member_birth_year** is **strongly negatively correlated** with **member_age** (-1.00) — again logical, as birth year and age are inverse relationships.\n",
        "- **start_hour** and other features like trip duration have very **weak or no correlation**.\n",
        "\n",
        "Thus, most of the variables are **independent** except where mathematically related.\n"
      ],
      "metadata": {
        "id": "bfSqtnDqZNRR"
      }
    },
    {
      "cell_type": "markdown",
      "source": [
        "#### Chart - 15 - Pair Plot"
      ],
      "metadata": {
        "id": "q29F0dvdveiT"
      }
    },
    {
      "cell_type": "code",
      "source": [
        "# Pair Plot visualization code\n",
        "\n",
        "# Using a subset of important numerical features for clarity\n",
        "selected_features = df[['trip_duration_min', 'start_hour', 'member_age']]\n",
        "\n",
        "# Pairplot\n",
        "sns.pairplot(selected_features, diag_kind='kde', plot_kws={'alpha':0.5})\n",
        "plt.suptitle('Pair Plot of Trip Duration, Start Hour, and Member Age', y=1.02, fontsize=18)\n",
        "plt.show()\n"
      ],
      "metadata": {
        "id": "o58-TEIhveiU"
      },
      "execution_count": null,
      "outputs": []
    },
    {
      "cell_type": "markdown",
      "source": [
        "##### 1. Why did you pick the specific chart?"
      ],
      "metadata": {
        "id": "EXh0U9oCveiU"
      }
    },
    {
      "cell_type": "markdown",
      "source": [
        "\n",
        "I picked a **Pair Plot** because it allows us to **visualize pairwise relationships between multiple numerical variables** at once, along with their **distributions**.  \n",
        "It’s an efficient way to detect **linear/non-linear relationships, clusters, and patterns** between multiple variables simultaneously.\n"
      ],
      "metadata": {
        "id": "eMmPjTByveiU"
      }
    },
    {
      "cell_type": "markdown",
      "source": [
        "##### 2. What is/are the insight(s) found from the chart?"
      ],
      "metadata": {
        "id": "22aHeOlLveiV"
      }
    },
    {
      "cell_type": "markdown",
      "source": [
        "\n",
        "The pairplot shows:\n",
        "- **Trip Duration vs Start Hour**:  \n",
        "  No strong relationship — trip length doesn’t depend heavily on time of day.\n",
        "- **Trip Duration vs Member Age**:  \n",
        "  A slight trend where **older users sometimes take longer trips**, but overall weak.\n",
        "- **Start Hour vs Member Age**:  \n",
        "  No clear pattern; people of all ages use bikes throughout the day.\n",
        "\n",
        "Thus, **trip characteristics are fairly independent across demographics**.\n"
      ],
      "metadata": {
        "id": "uPQ8RGwHveiV"
      }
    },
    {
      "cell_type": "markdown",
      "source": [
        "#### Chart - 16"
      ],
      "metadata": {
        "id": "0GkK65vbtUgE"
      }
    },
    {
      "cell_type": "code",
      "source": [
        "# Chart - 16 visualization code\n",
        "\n",
        "plt.figure(figsize=(12,6))\n",
        "sns.countplot(data=df, x='start_hour', hue='user_type', palette='Spectral')\n",
        "plt.title('Start Hour vs User Type', fontsize=16)\n",
        "plt.xlabel('Hour of the Day (0-23)', fontsize=14)\n",
        "plt.ylabel('Number of Trips', fontsize=14)\n",
        "plt.legend(title='User Type')\n",
        "plt.grid(axis='y')\n",
        "plt.show()\n"
      ],
      "metadata": {
        "id": "R9l-tXpmtI5D"
      },
      "execution_count": null,
      "outputs": []
    },
    {
      "cell_type": "markdown",
      "source": [
        "\n",
        "### 1. Why did you pick the specific chart?"
      ],
      "metadata": {
        "id": "30dAy4cotk2e"
      }
    },
    {
      "cell_type": "markdown",
      "source": [
        "\n",
        "\n",
        "I picked a **Count Plot with hue** because it allows us to **compare two categorical variables** together — 'start_hour' vs 'user_type'.  \n",
        "It’s perfect for seeing how **user types vary across different hours of the day** and finding **patterns between two variables**.\n"
      ],
      "metadata": {
        "id": "3y-Iv-0-tfO2"
      }
    },
    {
      "cell_type": "markdown",
      "source": [
        "### 2. What is/are the insight(s) found from the chart?\n"
      ],
      "metadata": {
        "id": "Jzt8uy4utlc9"
      }
    },
    {
      "cell_type": "markdown",
      "source": [
        "\n",
        "The chart reveals:\n",
        "- **Subscribers** dominate during **peak commuting hours** (around 8 AM and 5–6 PM).\n",
        "- **Customers** are **more evenly distributed** across daytime hours, especially between **10 AM to 5 PM**.\n",
        "- **Subscribers** clearly use bikes for **work commutes**, while **Customers** (casual riders) use them during more relaxed daytime hours.\n"
      ],
      "metadata": {
        "id": "yHOBzVBStmBm"
      }
    },
    {
      "cell_type": "markdown",
      "source": [
        "\n",
        "###  3. Will the gained insights help create a positive business impact?"
      ],
      "metadata": {
        "id": "8pr2mQKmttD4"
      }
    },
    {
      "cell_type": "markdown",
      "source": [
        "✅ **Positive Business Impact:**\n",
        "- Ford GoBike can **optimize bike availability** differently for Subscribers vs Customers:\n",
        "  - More bikes available for **Subscribers** early morning and late afternoon.\n",
        "  - Ensure bike availability for **Customers** during midday.\n",
        "- **Dynamic Pricing Opportunities**:  \n",
        "  Offer discounts to Customers during non-commute hours to balance bike usage.\n",
        "\n",
        "⚠️ **Negative Business Impact:**\n",
        "- Failure to differentiate could cause **bike shortages** during peak commuter hours, leading to **customer dissatisfaction**.\n",
        "- Need **dynamic inventory balancing** between early morning/evening peaks and midday casual use.\n"
      ],
      "metadata": {
        "id": "PgT-e5SDtsxJ"
      }
    },
    {
      "cell_type": "markdown",
      "source": [
        "## **5. Solution to Business Objective**"
      ],
      "metadata": {
        "id": "JcMwzZxoAimU"
      }
    },
    {
      "cell_type": "markdown",
      "source": [
        "#### What do you suggest the client to achieve Business Objective ?\n",
        "Explain Briefly."
      ],
      "metadata": {
        "id": "8G2x9gOozGDZ"
      }
    },
    {
      "cell_type": "markdown",
      "source": [
        "\n",
        "\n",
        "**Suggested Solutions:**\n",
        "\n",
        "To help **Ford GoBike** achieve its business objectives (better understanding user behavior, optimizing operations, and improving marketing strategies), I suggest the following:\n",
        "\n",
        "- **User Segmentation and Personalization:**  \n",
        "  Use the EDA findings to classify users (e.g., subscribers vs. casual customers) and develop personalized marketing strategies. Subscribers can be rewarded with loyalty programs, while casual riders can be targeted with special offers to encourage membership upgrades.\n",
        "\n",
        "- **Peak Time Resource Optimization:**  \n",
        "  Based on the analysis of peak usage hours and days, Ford GoBike should reallocate bike availability dynamically. More bikes should be deployed at high-demand stations during morning and evening rush hours, especially on weekdays.\n",
        "\n",
        "- **Station Management:**  \n",
        "  Identify high-traffic stations and ensure they are well-stocked. Use predictive models to forecast station-level demand and relocate bikes proactively.\n",
        "\n",
        "- **Trip Duration Insights:**  \n",
        "  Analyze and promote short-duration trips among casual users to maximize turnover and bike availability. Long-duration trips should be discouraged unless part of premium plans.\n",
        "\n",
        "- **Gender and Demographic Targeted Campaigns:**  \n",
        "  Since usage behavior varies by gender and age, marketing campaigns should be customized accordingly (e.g., student discounts, promotions for corporate subscriptions).\n",
        "\n",
        "- **Predictive Analytics Implementation:**  \n",
        "  Deploy a classification model to predict user types and likely behaviors. This can help pre-empt service needs and provide customized recommendations or offers via the app.\n"
      ],
      "metadata": {
        "id": "pASKb0qOza21"
      }
    },
    {
      "cell_type": "markdown",
      "source": [
        "# **Conclusion**"
      ],
      "metadata": {
        "id": "gCX9965dhzqZ"
      }
    },
    {
      "cell_type": "markdown",
      "source": [
        "\n",
        "In conclusion, by leveraging detailed exploratory data analysis and predictive modeling, Ford GoBike can gain valuable insights into user behavior and operational challenges. These insights should be translated into actionable strategies — optimizing bike availability, personalizing customer engagement, improving marketing efforts, and refining station management. Doing so will not only enhance customer satisfaction but also improve operational efficiency and drive business growth. Data-driven decision-making will be critical for Ford GoBike's continued success in the competitive urban mobility market.\n"
      ],
      "metadata": {
        "id": "Fjb1IsQkh3yE"
      }
    }
  ]
}